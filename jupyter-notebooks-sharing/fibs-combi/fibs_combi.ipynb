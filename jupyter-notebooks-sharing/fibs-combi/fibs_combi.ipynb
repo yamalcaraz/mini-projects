{
 "cells": [
  {
   "cell_type": "markdown",
   "metadata": {},
   "source": [
    "# Fibonacchi sequence"
   ]
  },
  {
   "cell_type": "code",
   "execution_count": 1,
   "metadata": {},
   "outputs": [],
   "source": [
    "def fib(n):\n",
    "    if n == 1: return 1\n",
    "    if n == 2: return 1\n",
    "    return fib(n-1) + fib(n-2)"
   ]
  },
  {
   "cell_type": "code",
   "execution_count": 2,
   "metadata": {},
   "outputs": [
    {
     "name": "stdout",
     "output_type": "stream",
     "text": [
      "1\n",
      "1\n",
      "2\n",
      "3\n",
      "5\n",
      "8\n",
      "13\n",
      "21\n",
      "34\n"
     ]
    }
   ],
   "source": [
    "for i in range(1,10):\n",
    "    print (fib(i))"
   ]
  },
  {
   "cell_type": "markdown",
   "metadata": {},
   "source": [
    "# Combination problem"
   ]
  },
  {
   "cell_type": "code",
   "execution_count": 3,
   "metadata": {},
   "outputs": [],
   "source": [
    "def combinations(target_value,tokens):\n",
    "    count = 0\n",
    "    if target_value < 0: # do not add to count\n",
    "        return 0\n",
    "    elif target_value == 0: # add to count\n",
    "        return 1\n",
    "    else:\n",
    "        for t_ in tokens:\n",
    "            count += combinations(target_value-t_,tokens) \n",
    "    return count"
   ]
  },
  {
   "cell_type": "code",
   "execution_count": 4,
   "metadata": {},
   "outputs": [
    {
     "name": "stdout",
     "output_type": "stream",
     "text": [
      "3\n"
     ]
    }
   ],
   "source": [
    "print(combinations(4,[1,3]))"
   ]
  },
  {
   "cell_type": "markdown",
   "metadata": {},
   "source": [
    "* `combinations()` terminates if `target_value` is less than or equal to 0, and returns 0 or 1 respectively\n",
    "* the results are accumulated and summed into `count`.\n",
    "\n",
    "Following the logic, if `target_value` is 4, and the `tokens` are `[3,1]` then the algorithm will go like the tree below:\n",
    "\n",
    "![](combi.png)\n",
    "\n",
    "The recursion terminates when it has a 0 or negative value. If it is zero, `combinations()` returns 1, which adds to the count, and zero otherwise. The blue circles above are counted, which totals 3.  \n",
    "\n",
    "The combinations found were:\n",
    "\n",
    "`1+1+1+1`  \n",
    "`1+3`  \n",
    "`3+1`"
   ]
  }
 ],
 "metadata": {
  "kernelspec": {
   "display_name": "Python 3",
   "language": "python",
   "name": "python3"
  },
  "language_info": {
   "codemirror_mode": {
    "name": "ipython",
    "version": 3
   },
   "file_extension": ".py",
   "mimetype": "text/x-python",
   "name": "python",
   "nbconvert_exporter": "python",
   "pygments_lexer": "ipython3",
   "version": "3.6.1"
  }
 },
 "nbformat": 4,
 "nbformat_minor": 2
}

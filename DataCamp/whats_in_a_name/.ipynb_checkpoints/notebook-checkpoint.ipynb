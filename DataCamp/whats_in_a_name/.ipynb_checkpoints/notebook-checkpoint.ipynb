{
 "cells": [
  {
   "cell_type": "markdown",
   "metadata": {
    "dc": {
     "key": "af3ab50ea7"
    },
    "deletable": false,
    "editable": false,
    "run_control": {
     "frozen": true
    },
    "tags": [
     "context"
    ]
   },
   "source": [
    "## 1. Introduction to Baby Names Data\n",
    "<blockquote>\n",
    "  <p>What’s in a name? That which we call a rose, By any other name would smell as sweet.</p>\n",
    "</blockquote>\n",
    "<p>In this project, we will explore a rich dataset of first names of babies born in the US, that spans a period of more than 100 years! This suprisingly simple dataset can help us uncover so many interesting stories, and that is exactly what we are going to be doing. </p>\n",
    "<p>Let us start by reading the data.</p>"
   ]
  },
  {
   "cell_type": "code",
   "execution_count": 1,
   "metadata": {
    "collapsed": true,
    "dc": {
     "key": "af3ab50ea7"
    },
    "tags": [
     "sample_code"
    ]
   },
   "outputs": [],
   "source": [
    "# Import modules\n",
    "import pandas as pd\n",
    "\n",
    "# Read names into a dataframe: bnames\n",
    "bnames=pd.read_csv('datasets/names.csv.gz')\n"
   ]
  },
  {
   "cell_type": "markdown",
   "metadata": {
    "dc": {
     "key": "0bc85b342d"
    },
    "deletable": false,
    "editable": false,
    "run_control": {
     "frozen": true
    },
    "tags": [
     "context"
    ]
   },
   "source": [
    "## 2. Exploring Trends in Names\n",
    "<p>One of the first things we want to do is to understand naming trends. Let us start by figuring out the top five most popular male and female names for this decade (born 2011 and later). Do you want to make any guesses? Go on, be a sport!!</p>"
   ]
  },
  {
   "cell_type": "code",
   "execution_count": 2,
   "metadata": {
    "dc": {
     "key": "0bc85b342d"
    },
    "tags": [
     "sample_code"
    ]
   },
   "outputs": [
    {
     "name": "stdout",
     "output_type": "stream",
     "text": [
      "Index(['name', 'sex', 'births', 'year'], dtype='object')\n"
     ]
    },
    {
     "data": {
      "text/html": [
       "<div>\n",
       "<style>\n",
       "    .dataframe thead tr:only-child th {\n",
       "        text-align: right;\n",
       "    }\n",
       "\n",
       "    .dataframe thead th {\n",
       "        text-align: left;\n",
       "    }\n",
       "\n",
       "    .dataframe tbody tr th {\n",
       "        vertical-align: top;\n",
       "    }\n",
       "</style>\n",
       "<table border=\"1\" class=\"dataframe\">\n",
       "  <thead>\n",
       "    <tr style=\"text-align: right;\">\n",
       "      <th></th>\n",
       "      <th>name</th>\n",
       "      <th>sex</th>\n",
       "      <th>births</th>\n",
       "    </tr>\n",
       "  </thead>\n",
       "  <tbody>\n",
       "    <tr>\n",
       "      <th>15817</th>\n",
       "      <td>Emma</td>\n",
       "      <td>F</td>\n",
       "      <td>121375</td>\n",
       "    </tr>\n",
       "    <tr>\n",
       "      <th>45445</th>\n",
       "      <td>Sophia</td>\n",
       "      <td>F</td>\n",
       "      <td>117352</td>\n",
       "    </tr>\n",
       "    <tr>\n",
       "      <th>38766</th>\n",
       "      <td>Olivia</td>\n",
       "      <td>F</td>\n",
       "      <td>111691</td>\n",
       "    </tr>\n",
       "    <tr>\n",
       "      <th>20269</th>\n",
       "      <td>Isabella</td>\n",
       "      <td>F</td>\n",
       "      <td>103947</td>\n",
       "    </tr>\n",
       "    <tr>\n",
       "      <th>6171</th>\n",
       "      <td>Ava</td>\n",
       "      <td>F</td>\n",
       "      <td>94507</td>\n",
       "    </tr>\n",
       "    <tr>\n",
       "      <th>38198</th>\n",
       "      <td>Noah</td>\n",
       "      <td>M</td>\n",
       "      <td>110280</td>\n",
       "    </tr>\n",
       "    <tr>\n",
       "      <th>34416</th>\n",
       "      <td>Mason</td>\n",
       "      <td>M</td>\n",
       "      <td>105104</td>\n",
       "    </tr>\n",
       "    <tr>\n",
       "      <th>20874</th>\n",
       "      <td>Jacob</td>\n",
       "      <td>M</td>\n",
       "      <td>104722</td>\n",
       "    </tr>\n",
       "    <tr>\n",
       "      <th>31398</th>\n",
       "      <td>Liam</td>\n",
       "      <td>M</td>\n",
       "      <td>103250</td>\n",
       "    </tr>\n",
       "    <tr>\n",
       "      <th>49601</th>\n",
       "      <td>William</td>\n",
       "      <td>M</td>\n",
       "      <td>99144</td>\n",
       "    </tr>\n",
       "  </tbody>\n",
       "</table>\n",
       "</div>"
      ],
      "text/plain": [
       "           name sex  births\n",
       "15817      Emma   F  121375\n",
       "45445    Sophia   F  117352\n",
       "38766    Olivia   F  111691\n",
       "20269  Isabella   F  103947\n",
       "6171        Ava   F   94507\n",
       "38198      Noah   M  110280\n",
       "34416     Mason   M  105104\n",
       "20874     Jacob   M  104722\n",
       "31398      Liam   M  103250\n",
       "49601   William   M   99144"
      ]
     },
     "execution_count": 2,
     "metadata": {},
     "output_type": "execute_result"
    }
   ],
   "source": [
    "# bnames_top5: A dataframe with top 5 popular male and female names for the decade\n",
    "print(bnames.columns)\n",
    "bnames_this_decade = bnames[bnames['year']>=2011]\n",
    "grouped = bnames_this_decade.groupby(['name','sex'],as_index=False)\n",
    "bnames_top5=grouped.sum()\n",
    "bnames_top5=bnames_top5.drop(['year'],axis=1)\n",
    "bnames_top5=bnames_top5.sort_values('births',ascending=False)\n",
    "bnames_top5_m=bnames_top5[bnames_top5.loc[:,'sex']=='M'].iloc[:5]\n",
    "bnames_top5_f=bnames_top5[bnames_top5.loc[:,'sex']=='F'].iloc[:5]\n",
    "bnames_top5=pd.concat([bnames_top5_f,bnames_top5_m])\n",
    "bnames_top5"
   ]
  },
  {
   "cell_type": "markdown",
   "metadata": {
    "dc": {
     "key": "7cca0a6aff"
    },
    "deletable": false,
    "editable": false,
    "run_control": {
     "frozen": true
    },
    "tags": [
     "context"
    ]
   },
   "source": [
    "## 3. Proportion of Births\n",
    "<p>While the number of births is a useful metric, making comparisons across years becomes difficult, as one would have to control for population effects. One way around this is to normalize the number of births by the total number of births in that year.</p>"
   ]
  },
  {
   "cell_type": "code",
   "execution_count": 3,
   "metadata": {
    "collapsed": true,
    "dc": {
     "key": "7cca0a6aff"
    },
    "tags": [
     "sample_code"
    ]
   },
   "outputs": [],
   "source": [
    "bnames2 = bnames.copy()\n",
    "# Compute the proportion of births by year and add it as a new column\n",
    "grouped_by_years=bnames2.groupby('year')\n",
    "total_births_by_year=grouped_by_years['births'].transform(lambda x: x.sum())\n",
    "bnames2['prop_births']=total_births_by_year\n",
    "\n"
   ]
  },
  {
   "cell_type": "markdown",
   "metadata": {
    "dc": {
     "key": "ec03f98f40"
    },
    "deletable": false,
    "editable": false,
    "run_control": {
     "frozen": true
    },
    "tags": [
     "context"
    ]
   },
   "source": [
    "## 4. Popularity of Names\n",
    "<p>Now that we have the proportion of births, let us plot the popularity of a name through the years. How about plotting the popularity of the female names <code>Elizabeth</code>, and <code>Deneen</code>, and inspecting the underlying trends for any interesting patterns!</p>"
   ]
  },
  {
   "cell_type": "code",
   "execution_count": 4,
   "metadata": {
    "dc": {
     "key": "ec03f98f40"
    },
    "tags": [
     "sample_code"
    ]
   },
   "outputs": [
    {
     "data": {
      "image/png": "[encoded data removed]",
      "text/plain": [
       "<matplotlib.figure.Figure at 0x1a2de2d39b0>"
      ]
     },
     "metadata": {},
     "output_type": "display_data"
    },
    {
     "data": {
      "image/png": "[encoded data removed]",
      "text/plain": [
       "<matplotlib.figure.Figure at 0x1a2de2d3fd0>"
      ]
     },
     "metadata": {},
     "output_type": "display_data"
    }
   ],
   "source": [
    "# Set up matplotlib for plotting in the notebook.\n",
    "%matplotlib inline\n",
    "import matplotlib.pyplot as plt\n",
    "\n",
    "def plot_trends(name, sex):\n",
    "    fig, ax = plt.subplots()\n",
    "    data = bnames[(bnames.name==name) & (bnames.sex==sex)]\n",
    "    ax.plot(data.year,data.births)\n",
    "    ax.set_xlabel('year')\n",
    "    ax.set_ylabel('births')\n",
    "    return ax\n",
    "\n",
    "\n",
    "# Plot trends for Elizabeth and Deneen \n",
    "plot_trends('Elizabeth','F')\n",
    "plot_trends('Deneen','F')\n",
    "    \n",
    "# How many times did these female names peak?\n",
    "num_peaks_elizabeth = 3\n",
    "num_peaks_deneen    = 1"
   ]
  },
  {
   "cell_type": "markdown",
   "metadata": {
    "dc": {
     "key": "b56a9fcef5"
    },
    "deletable": false,
    "editable": false,
    "run_control": {
     "frozen": true
    },
    "tags": [
     "context"
    ]
   },
   "source": [
    "## 5. Trendy vs. Stable Names\n",
    "<p>Based on the plots we created earlier, we can see that <strong>Elizabeth</strong> is a fairly stable name, while <strong>Deneen</strong> is not. An interesting question to ask would be what are the top 5 stable and top 5 trendiest names. A stable name is one whose proportion across years does not vary drastically, while a trendy name is one whose popularity peaks for a short period and then dies down. </p>\n",
    "<p>There are many ways to measure trendiness. A simple measure would be to look at the maximum proportion of births for a name, normalized by the sume of proportion of births across years. For example, if the name <code>Joe</code> had the proportions <code>0.1, 0.2, 0.1, 0.1</code>, then the trendiness measure would be <code>0.2/(0.1 + 0.2 + 0.1 + 0.1)</code> which equals <code>0.5</code>.</p>\n",
    "<p>Let us use this idea to figure out the top 10 trendy names in this data set, with at least a 1000 births.</p>"
   ]
  },
  {
   "cell_type": "code",
   "execution_count": 5,
   "metadata": {
    "dc": {
     "key": "b56a9fcef5"
    },
    "tags": [
     "sample_code"
    ]
   },
   "outputs": [
    {
     "data": {
      "text/html": [
       "<div>\n",
       "<style>\n",
       "    .dataframe thead tr:only-child th {\n",
       "        text-align: right;\n",
       "    }\n",
       "\n",
       "    .dataframe thead th {\n",
       "        text-align: left;\n",
       "    }\n",
       "\n",
       "    .dataframe tbody tr th {\n",
       "        vertical-align: top;\n",
       "    }\n",
       "</style>\n",
       "<table border=\"1\" class=\"dataframe\">\n",
       "  <thead>\n",
       "    <tr style=\"text-align: right;\">\n",
       "      <th></th>\n",
       "      <th>name</th>\n",
       "      <th>sex</th>\n",
       "      <th>total</th>\n",
       "      <th>max</th>\n",
       "      <th>trendiness</th>\n",
       "    </tr>\n",
       "  </thead>\n",
       "  <tbody>\n",
       "    <tr>\n",
       "      <th>0</th>\n",
       "      <td>Christop</td>\n",
       "      <td>M</td>\n",
       "      <td>1082</td>\n",
       "      <td>1082</td>\n",
       "      <td>1.000000</td>\n",
       "    </tr>\n",
       "    <tr>\n",
       "      <th>1</th>\n",
       "      <td>Royalty</td>\n",
       "      <td>F</td>\n",
       "      <td>1057</td>\n",
       "      <td>581</td>\n",
       "      <td>0.549669</td>\n",
       "    </tr>\n",
       "    <tr>\n",
       "      <th>2</th>\n",
       "      <td>Kizzy</td>\n",
       "      <td>F</td>\n",
       "      <td>2325</td>\n",
       "      <td>1116</td>\n",
       "      <td>0.480000</td>\n",
       "    </tr>\n",
       "    <tr>\n",
       "      <th>3</th>\n",
       "      <td>Aitana</td>\n",
       "      <td>F</td>\n",
       "      <td>1203</td>\n",
       "      <td>564</td>\n",
       "      <td>0.468828</td>\n",
       "    </tr>\n",
       "    <tr>\n",
       "      <th>4</th>\n",
       "      <td>Deneen</td>\n",
       "      <td>F</td>\n",
       "      <td>3602</td>\n",
       "      <td>1604</td>\n",
       "      <td>0.445308</td>\n",
       "    </tr>\n",
       "    <tr>\n",
       "      <th>5</th>\n",
       "      <td>Moesha</td>\n",
       "      <td>F</td>\n",
       "      <td>1067</td>\n",
       "      <td>426</td>\n",
       "      <td>0.399250</td>\n",
       "    </tr>\n",
       "    <tr>\n",
       "      <th>6</th>\n",
       "      <td>Marely</td>\n",
       "      <td>F</td>\n",
       "      <td>2527</td>\n",
       "      <td>1004</td>\n",
       "      <td>0.397309</td>\n",
       "    </tr>\n",
       "    <tr>\n",
       "      <th>7</th>\n",
       "      <td>Kanye</td>\n",
       "      <td>M</td>\n",
       "      <td>1304</td>\n",
       "      <td>507</td>\n",
       "      <td>0.388804</td>\n",
       "    </tr>\n",
       "    <tr>\n",
       "      <th>8</th>\n",
       "      <td>Tennille</td>\n",
       "      <td>F</td>\n",
       "      <td>2172</td>\n",
       "      <td>769</td>\n",
       "      <td>0.354052</td>\n",
       "    </tr>\n",
       "    <tr>\n",
       "      <th>9</th>\n",
       "      <td>Kadijah</td>\n",
       "      <td>F</td>\n",
       "      <td>1411</td>\n",
       "      <td>486</td>\n",
       "      <td>0.344437</td>\n",
       "    </tr>\n",
       "  </tbody>\n",
       "</table>\n",
       "</div>"
      ],
      "text/plain": [
       "       name sex  total   max  trendiness\n",
       "0  Christop   M   1082  1082    1.000000\n",
       "1   Royalty   F   1057   581    0.549669\n",
       "2     Kizzy   F   2325  1116    0.480000\n",
       "3    Aitana   F   1203   564    0.468828\n",
       "4    Deneen   F   3602  1604    0.445308\n",
       "5    Moesha   F   1067   426    0.399250\n",
       "6    Marely   F   2527  1004    0.397309\n",
       "7     Kanye   M   1304   507    0.388804\n",
       "8  Tennille   F   2172   769    0.354052\n",
       "9   Kadijah   F   1411   486    0.344437"
      ]
     },
     "execution_count": 5,
     "metadata": {},
     "output_type": "execute_result"
    }
   ],
   "source": [
    "# top10_trendy_names | A Data Frame of the top 10 most trendy names\n",
    "names=pd.DataFrame()\n",
    "grouped=bnames.groupby(['name','sex'])\n",
    "names['total']=grouped['births'].sum()\n",
    "names['max']=grouped['births'].max()\n",
    "names['trendiness']=names['max']/names['total']\n",
    "top10_trendy_names=names[names.total > 1000]\\\n",
    "    .sort_values('trendiness',ascending=False)\\\n",
    "    .head(10)\\\n",
    "    .reset_index()\n",
    "top10_trendy_names"
   ]
  },
  {
   "cell_type": "markdown",
   "metadata": {
    "dc": {
     "key": "8beea38403"
    },
    "deletable": false,
    "editable": false,
    "run_control": {
     "frozen": true
    },
    "tags": [
     "context"
    ]
   },
   "source": [
    "## 6. Bring in Mortality Data\n",
    "<p>So, what more is in a name? Well, with some further work, it is possible to predict the age of a person based on the name (Whoa! Really????). For this, we will need actuarial data that can tell us the chances that someone is still alive, based on when they were born. Fortunately, the <a href=\"https://www.ssa.gov/\">SSA</a> provides detailed <a href=\"https://www.ssa.gov/oact/STATS/table4c6.html\">actuarial life tables</a> by birth cohorts.</p>\n",
    "<table>\n",
    "<thead>\n",
    "<tr>\n",
    "<th style=\"text-align:right;\">year</th>\n",
    "<th style=\"text-align:right;\">age</th>\n",
    "<th style=\"text-align:right;\">qx</th>\n",
    "<th style=\"text-align:right;\">lx</th>\n",
    "<th style=\"text-align:right;\">dx</th>\n",
    "<th style=\"text-align:right;\">Lx</th>\n",
    "<th style=\"text-align:right;\">Tx</th>\n",
    "<th style=\"text-align:right;\">ex</th>\n",
    "<th style=\"text-align:left;\">sex</th>\n",
    "</tr>\n",
    "</thead>\n",
    "<tbody>\n",
    "<tr>\n",
    "<td style=\"text-align:right;\">1910</td>\n",
    "<td style=\"text-align:right;\">39</td>\n",
    "<td style=\"text-align:right;\">0.00283</td>\n",
    "<td style=\"text-align:right;\">78275</td>\n",
    "<td style=\"text-align:right;\">222</td>\n",
    "<td style=\"text-align:right;\">78164</td>\n",
    "<td style=\"text-align:right;\">3129636</td>\n",
    "<td style=\"text-align:right;\">39.98</td>\n",
    "<td style=\"text-align:left;\">F</td>\n",
    "</tr>\n",
    "<tr>\n",
    "<td style=\"text-align:right;\">1910</td>\n",
    "<td style=\"text-align:right;\">40</td>\n",
    "<td style=\"text-align:right;\">0.00297</td>\n",
    "<td style=\"text-align:right;\">78053</td>\n",
    "<td style=\"text-align:right;\">232</td>\n",
    "<td style=\"text-align:right;\">77937</td>\n",
    "<td style=\"text-align:right;\">3051472</td>\n",
    "<td style=\"text-align:right;\">39.09</td>\n",
    "<td style=\"text-align:left;\">F</td>\n",
    "</tr>\n",
    "<tr>\n",
    "<td style=\"text-align:right;\">1910</td>\n",
    "<td style=\"text-align:right;\">41</td>\n",
    "<td style=\"text-align:right;\">0.00318</td>\n",
    "<td style=\"text-align:right;\">77821</td>\n",
    "<td style=\"text-align:right;\">248</td>\n",
    "<td style=\"text-align:right;\">77697</td>\n",
    "<td style=\"text-align:right;\">2973535</td>\n",
    "<td style=\"text-align:right;\">38.21</td>\n",
    "<td style=\"text-align:left;\">F</td>\n",
    "</tr>\n",
    "<tr>\n",
    "<td style=\"text-align:right;\">1910</td>\n",
    "<td style=\"text-align:right;\">42</td>\n",
    "<td style=\"text-align:right;\">0.00332</td>\n",
    "<td style=\"text-align:right;\">77573</td>\n",
    "<td style=\"text-align:right;\">257</td>\n",
    "<td style=\"text-align:right;\">77444</td>\n",
    "<td style=\"text-align:right;\">2895838</td>\n",
    "<td style=\"text-align:right;\">37.33</td>\n",
    "<td style=\"text-align:left;\">F</td>\n",
    "</tr>\n",
    "<tr>\n",
    "<td style=\"text-align:right;\">1910</td>\n",
    "<td style=\"text-align:right;\">43</td>\n",
    "<td style=\"text-align:right;\">0.00346</td>\n",
    "<td style=\"text-align:right;\">77316</td>\n",
    "<td style=\"text-align:right;\">268</td>\n",
    "<td style=\"text-align:right;\">77182</td>\n",
    "<td style=\"text-align:right;\">2818394</td>\n",
    "<td style=\"text-align:right;\">36.45</td>\n",
    "<td style=\"text-align:left;\">F</td>\n",
    "</tr>\n",
    "<tr>\n",
    "<td style=\"text-align:right;\">1910</td>\n",
    "<td style=\"text-align:right;\">44</td>\n",
    "<td style=\"text-align:right;\">0.00351</td>\n",
    "<td style=\"text-align:right;\">77048</td>\n",
    "<td style=\"text-align:right;\">270</td>\n",
    "<td style=\"text-align:right;\">76913</td>\n",
    "<td style=\"text-align:right;\">2741212</td>\n",
    "<td style=\"text-align:right;\">35.58</td>\n",
    "<td style=\"text-align:left;\">F</td>\n",
    "</tr>\n",
    "</tbody>\n",
    "</table>\n",
    "<p>You can read the <a href=\"https://www.ssa.gov/oact/NOTES/as120/LifeTables_Body.html\">documentation for the lifetables</a> to understand what the different columns mean. The key column of interest to us is <code>lx</code>, which provides the number of people born in a <code>year</code> who live upto a given <code>age</code>. The probability of being alive can be derived as <code>lx</code> by 100,000. </p>\n",
    "<p>Given that 2016 is the latest year in the baby names dataset, we are interested only in a subset of this data, that will help us answer the question, \"What percentage of people born in Year X are still alive in 2016?\" </p>\n",
    "<p>Let us use this data and plot it to get a sense of the mortality distribution!</p>"
   ]
  },
  {
   "cell_type": "code",
   "execution_count": 6,
   "metadata": {
    "dc": {
     "key": "8beea38403"
    },
    "tags": [
     "sample_code"
    ]
   },
   "outputs": [
    {
     "data": {
      "text/plain": [
       "<matplotlib.axes._subplots.AxesSubplot at 0x1a2db2839b0>"
      ]
     },
     "execution_count": 6,
     "metadata": {},
     "output_type": "execute_result"
    },
    {
     "data": {
      "image/png": "[encoded data removed]",
      "text/plain": [
       "<matplotlib.figure.Figure at 0x1a2db2831d0>"
      ]
     },
     "metadata": {},
     "output_type": "display_data"
    }
   ],
   "source": [
    "# Read lifetables from datasets/lifetables.csv\n",
    "lifetables = pd.read_csv('datasets/lifetables.csv')\n",
    "\n",
    "# Extract subset relevant to those alive in 2016\n",
    "lifetables_2016=lifetables[(lifetables.year + lifetables.age) ==2016]\n",
    "\n",
    "# Plot the mortality distribution: year vs. lx\n",
    "lifetables_2016.plot(x='year',y='lx')\n"
   ]
  },
  {
   "cell_type": "markdown",
   "metadata": {
    "dc": {
     "key": "19e120d2df"
    },
    "deletable": false,
    "editable": false,
    "run_control": {
     "frozen": true
    },
    "tags": [
     "context"
    ]
   },
   "source": [
    "## 7. Smoothen the Curve!\n",
    "<p>We are almost there. There is just one small glitch. The cohort life tables are provided only for every decade. In order to figure out the distribution of people alive, we need the probabilities for every year. One way to fill up the gaps in the data is to use some kind of interpolation. Let us keep things simple and use linear interpolation to fill out the gaps in values of <code>lx</code>, between the years <code>1900</code> and <code>2016</code>.</p>"
   ]
  },
  {
   "cell_type": "code",
   "execution_count": 7,
   "metadata": {
    "dc": {
     "key": "19e120d2df"
    },
    "tags": [
     "sample_code"
    ]
   },
   "outputs": [
    {
     "data": {
      "text/html": [
       "<div>\n",
       "<style>\n",
       "    .dataframe thead tr:only-child th {\n",
       "        text-align: right;\n",
       "    }\n",
       "\n",
       "    .dataframe thead th {\n",
       "        text-align: left;\n",
       "    }\n",
       "\n",
       "    .dataframe tbody tr th {\n",
       "        vertical-align: top;\n",
       "    }\n",
       "</style>\n",
       "<table border=\"1\" class=\"dataframe\">\n",
       "  <thead>\n",
       "    <tr style=\"text-align: right;\">\n",
       "      <th></th>\n",
       "      <th></th>\n",
       "      <th>year</th>\n",
       "      <th>lx</th>\n",
       "      <th>sex</th>\n",
       "    </tr>\n",
       "  </thead>\n",
       "  <tbody>\n",
       "    <tr>\n",
       "      <th rowspan=\"30\" valign=\"top\">F</th>\n",
       "      <th>0</th>\n",
       "      <td>1900</td>\n",
       "      <td>0.0</td>\n",
       "      <td>F</td>\n",
       "    </tr>\n",
       "    <tr>\n",
       "      <th>1</th>\n",
       "      <td>1901</td>\n",
       "      <td>6.1</td>\n",
       "      <td>F</td>\n",
       "    </tr>\n",
       "    <tr>\n",
       "      <th>2</th>\n",
       "      <td>1902</td>\n",
       "      <td>12.2</td>\n",
       "      <td>F</td>\n",
       "    </tr>\n",
       "    <tr>\n",
       "      <th>3</th>\n",
       "      <td>1903</td>\n",
       "      <td>18.3</td>\n",
       "      <td>F</td>\n",
       "    </tr>\n",
       "    <tr>\n",
       "      <th>4</th>\n",
       "      <td>1904</td>\n",
       "      <td>24.4</td>\n",
       "      <td>F</td>\n",
       "    </tr>\n",
       "    <tr>\n",
       "      <th>5</th>\n",
       "      <td>1905</td>\n",
       "      <td>30.5</td>\n",
       "      <td>F</td>\n",
       "    </tr>\n",
       "    <tr>\n",
       "      <th>6</th>\n",
       "      <td>1906</td>\n",
       "      <td>36.6</td>\n",
       "      <td>F</td>\n",
       "    </tr>\n",
       "    <tr>\n",
       "      <th>7</th>\n",
       "      <td>1907</td>\n",
       "      <td>42.7</td>\n",
       "      <td>F</td>\n",
       "    </tr>\n",
       "    <tr>\n",
       "      <th>8</th>\n",
       "      <td>1908</td>\n",
       "      <td>48.8</td>\n",
       "      <td>F</td>\n",
       "    </tr>\n",
       "    <tr>\n",
       "      <th>9</th>\n",
       "      <td>1909</td>\n",
       "      <td>54.9</td>\n",
       "      <td>F</td>\n",
       "    </tr>\n",
       "    <tr>\n",
       "      <th>10</th>\n",
       "      <td>1910</td>\n",
       "      <td>61.0</td>\n",
       "      <td>F</td>\n",
       "    </tr>\n",
       "    <tr>\n",
       "      <th>11</th>\n",
       "      <td>1911</td>\n",
       "      <td>597.7</td>\n",
       "      <td>F</td>\n",
       "    </tr>\n",
       "    <tr>\n",
       "      <th>12</th>\n",
       "      <td>1912</td>\n",
       "      <td>1134.4</td>\n",
       "      <td>F</td>\n",
       "    </tr>\n",
       "    <tr>\n",
       "      <th>13</th>\n",
       "      <td>1913</td>\n",
       "      <td>1671.1</td>\n",
       "      <td>F</td>\n",
       "    </tr>\n",
       "    <tr>\n",
       "      <th>14</th>\n",
       "      <td>1914</td>\n",
       "      <td>2207.8</td>\n",
       "      <td>F</td>\n",
       "    </tr>\n",
       "    <tr>\n",
       "      <th>15</th>\n",
       "      <td>1915</td>\n",
       "      <td>2744.5</td>\n",
       "      <td>F</td>\n",
       "    </tr>\n",
       "    <tr>\n",
       "      <th>16</th>\n",
       "      <td>1916</td>\n",
       "      <td>3281.2</td>\n",
       "      <td>F</td>\n",
       "    </tr>\n",
       "    <tr>\n",
       "      <th>17</th>\n",
       "      <td>1917</td>\n",
       "      <td>3817.9</td>\n",
       "      <td>F</td>\n",
       "    </tr>\n",
       "    <tr>\n",
       "      <th>18</th>\n",
       "      <td>1918</td>\n",
       "      <td>4354.6</td>\n",
       "      <td>F</td>\n",
       "    </tr>\n",
       "    <tr>\n",
       "      <th>19</th>\n",
       "      <td>1919</td>\n",
       "      <td>4891.3</td>\n",
       "      <td>F</td>\n",
       "    </tr>\n",
       "    <tr>\n",
       "      <th>20</th>\n",
       "      <td>1920</td>\n",
       "      <td>5428.0</td>\n",
       "      <td>F</td>\n",
       "    </tr>\n",
       "    <tr>\n",
       "      <th>21</th>\n",
       "      <td>1921</td>\n",
       "      <td>8393.0</td>\n",
       "      <td>F</td>\n",
       "    </tr>\n",
       "    <tr>\n",
       "      <th>22</th>\n",
       "      <td>1922</td>\n",
       "      <td>11358.0</td>\n",
       "      <td>F</td>\n",
       "    </tr>\n",
       "    <tr>\n",
       "      <th>23</th>\n",
       "      <td>1923</td>\n",
       "      <td>14323.0</td>\n",
       "      <td>F</td>\n",
       "    </tr>\n",
       "    <tr>\n",
       "      <th>24</th>\n",
       "      <td>1924</td>\n",
       "      <td>17288.0</td>\n",
       "      <td>F</td>\n",
       "    </tr>\n",
       "    <tr>\n",
       "      <th>25</th>\n",
       "      <td>1925</td>\n",
       "      <td>20253.0</td>\n",
       "      <td>F</td>\n",
       "    </tr>\n",
       "    <tr>\n",
       "      <th>26</th>\n",
       "      <td>1926</td>\n",
       "      <td>23218.0</td>\n",
       "      <td>F</td>\n",
       "    </tr>\n",
       "    <tr>\n",
       "      <th>27</th>\n",
       "      <td>1927</td>\n",
       "      <td>26183.0</td>\n",
       "      <td>F</td>\n",
       "    </tr>\n",
       "    <tr>\n",
       "      <th>28</th>\n",
       "      <td>1928</td>\n",
       "      <td>29148.0</td>\n",
       "      <td>F</td>\n",
       "    </tr>\n",
       "    <tr>\n",
       "      <th>29</th>\n",
       "      <td>1929</td>\n",
       "      <td>32113.0</td>\n",
       "      <td>F</td>\n",
       "    </tr>\n",
       "    <tr>\n",
       "      <th>...</th>\n",
       "      <th>...</th>\n",
       "      <td>...</td>\n",
       "      <td>...</td>\n",
       "      <td>...</td>\n",
       "    </tr>\n",
       "    <tr>\n",
       "      <th rowspan=\"30\" valign=\"top\">M</th>\n",
       "      <th>86</th>\n",
       "      <td>1986</td>\n",
       "      <td>96718.2</td>\n",
       "      <td>M</td>\n",
       "    </tr>\n",
       "    <tr>\n",
       "      <th>87</th>\n",
       "      <td>1987</td>\n",
       "      <td>96904.9</td>\n",
       "      <td>M</td>\n",
       "    </tr>\n",
       "    <tr>\n",
       "      <th>88</th>\n",
       "      <td>1988</td>\n",
       "      <td>97091.6</td>\n",
       "      <td>M</td>\n",
       "    </tr>\n",
       "    <tr>\n",
       "      <th>89</th>\n",
       "      <td>1989</td>\n",
       "      <td>97278.3</td>\n",
       "      <td>M</td>\n",
       "    </tr>\n",
       "    <tr>\n",
       "      <th>90</th>\n",
       "      <td>1990</td>\n",
       "      <td>97465.0</td>\n",
       "      <td>M</td>\n",
       "    </tr>\n",
       "    <tr>\n",
       "      <th>91</th>\n",
       "      <td>1991</td>\n",
       "      <td>97607.3</td>\n",
       "      <td>M</td>\n",
       "    </tr>\n",
       "    <tr>\n",
       "      <th>92</th>\n",
       "      <td>1992</td>\n",
       "      <td>97749.6</td>\n",
       "      <td>M</td>\n",
       "    </tr>\n",
       "    <tr>\n",
       "      <th>93</th>\n",
       "      <td>1993</td>\n",
       "      <td>97891.9</td>\n",
       "      <td>M</td>\n",
       "    </tr>\n",
       "    <tr>\n",
       "      <th>94</th>\n",
       "      <td>1994</td>\n",
       "      <td>98034.2</td>\n",
       "      <td>M</td>\n",
       "    </tr>\n",
       "    <tr>\n",
       "      <th>95</th>\n",
       "      <td>1995</td>\n",
       "      <td>98176.5</td>\n",
       "      <td>M</td>\n",
       "    </tr>\n",
       "    <tr>\n",
       "      <th>96</th>\n",
       "      <td>1996</td>\n",
       "      <td>98318.8</td>\n",
       "      <td>M</td>\n",
       "    </tr>\n",
       "    <tr>\n",
       "      <th>97</th>\n",
       "      <td>1997</td>\n",
       "      <td>98461.1</td>\n",
       "      <td>M</td>\n",
       "    </tr>\n",
       "    <tr>\n",
       "      <th>98</th>\n",
       "      <td>1998</td>\n",
       "      <td>98603.4</td>\n",
       "      <td>M</td>\n",
       "    </tr>\n",
       "    <tr>\n",
       "      <th>99</th>\n",
       "      <td>1999</td>\n",
       "      <td>98745.7</td>\n",
       "      <td>M</td>\n",
       "    </tr>\n",
       "    <tr>\n",
       "      <th>100</th>\n",
       "      <td>2000</td>\n",
       "      <td>98888.0</td>\n",
       "      <td>M</td>\n",
       "    </tr>\n",
       "    <tr>\n",
       "      <th>101</th>\n",
       "      <td>2001</td>\n",
       "      <td>98928.8</td>\n",
       "      <td>M</td>\n",
       "    </tr>\n",
       "    <tr>\n",
       "      <th>102</th>\n",
       "      <td>2002</td>\n",
       "      <td>98969.6</td>\n",
       "      <td>M</td>\n",
       "    </tr>\n",
       "    <tr>\n",
       "      <th>103</th>\n",
       "      <td>2003</td>\n",
       "      <td>99010.4</td>\n",
       "      <td>M</td>\n",
       "    </tr>\n",
       "    <tr>\n",
       "      <th>104</th>\n",
       "      <td>2004</td>\n",
       "      <td>99051.2</td>\n",
       "      <td>M</td>\n",
       "    </tr>\n",
       "    <tr>\n",
       "      <th>105</th>\n",
       "      <td>2005</td>\n",
       "      <td>99092.0</td>\n",
       "      <td>M</td>\n",
       "    </tr>\n",
       "    <tr>\n",
       "      <th>106</th>\n",
       "      <td>2006</td>\n",
       "      <td>99132.8</td>\n",
       "      <td>M</td>\n",
       "    </tr>\n",
       "    <tr>\n",
       "      <th>107</th>\n",
       "      <td>2007</td>\n",
       "      <td>99173.6</td>\n",
       "      <td>M</td>\n",
       "    </tr>\n",
       "    <tr>\n",
       "      <th>108</th>\n",
       "      <td>2008</td>\n",
       "      <td>99214.4</td>\n",
       "      <td>M</td>\n",
       "    </tr>\n",
       "    <tr>\n",
       "      <th>109</th>\n",
       "      <td>2009</td>\n",
       "      <td>99255.2</td>\n",
       "      <td>M</td>\n",
       "    </tr>\n",
       "    <tr>\n",
       "      <th>110</th>\n",
       "      <td>2010</td>\n",
       "      <td>99296.0</td>\n",
       "      <td>M</td>\n",
       "    </tr>\n",
       "    <tr>\n",
       "      <th>111</th>\n",
       "      <td>2011</td>\n",
       "      <td>99296.0</td>\n",
       "      <td>M</td>\n",
       "    </tr>\n",
       "    <tr>\n",
       "      <th>112</th>\n",
       "      <td>2012</td>\n",
       "      <td>99296.0</td>\n",
       "      <td>M</td>\n",
       "    </tr>\n",
       "    <tr>\n",
       "      <th>113</th>\n",
       "      <td>2013</td>\n",
       "      <td>99296.0</td>\n",
       "      <td>M</td>\n",
       "    </tr>\n",
       "    <tr>\n",
       "      <th>114</th>\n",
       "      <td>2014</td>\n",
       "      <td>99296.0</td>\n",
       "      <td>M</td>\n",
       "    </tr>\n",
       "    <tr>\n",
       "      <th>115</th>\n",
       "      <td>2015</td>\n",
       "      <td>99296.0</td>\n",
       "      <td>M</td>\n",
       "    </tr>\n",
       "  </tbody>\n",
       "</table>\n",
       "<p>232 rows × 3 columns</p>\n",
       "</div>"
      ],
      "text/plain": [
       "       year       lx sex\n",
       "F 0    1900      0.0   F\n",
       "  1    1901      6.1   F\n",
       "  2    1902     12.2   F\n",
       "  3    1903     18.3   F\n",
       "  4    1904     24.4   F\n",
       "  5    1905     30.5   F\n",
       "  6    1906     36.6   F\n",
       "  7    1907     42.7   F\n",
       "  8    1908     48.8   F\n",
       "  9    1909     54.9   F\n",
       "  10   1910     61.0   F\n",
       "  11   1911    597.7   F\n",
       "  12   1912   1134.4   F\n",
       "  13   1913   1671.1   F\n",
       "  14   1914   2207.8   F\n",
       "  15   1915   2744.5   F\n",
       "  16   1916   3281.2   F\n",
       "  17   1917   3817.9   F\n",
       "  18   1918   4354.6   F\n",
       "  19   1919   4891.3   F\n",
       "  20   1920   5428.0   F\n",
       "  21   1921   8393.0   F\n",
       "  22   1922  11358.0   F\n",
       "  23   1923  14323.0   F\n",
       "  24   1924  17288.0   F\n",
       "  25   1925  20253.0   F\n",
       "  26   1926  23218.0   F\n",
       "  27   1927  26183.0   F\n",
       "  28   1928  29148.0   F\n",
       "  29   1929  32113.0   F\n",
       "...     ...      ...  ..\n",
       "M 86   1986  96718.2   M\n",
       "  87   1987  96904.9   M\n",
       "  88   1988  97091.6   M\n",
       "  89   1989  97278.3   M\n",
       "  90   1990  97465.0   M\n",
       "  91   1991  97607.3   M\n",
       "  92   1992  97749.6   M\n",
       "  93   1993  97891.9   M\n",
       "  94   1994  98034.2   M\n",
       "  95   1995  98176.5   M\n",
       "  96   1996  98318.8   M\n",
       "  97   1997  98461.1   M\n",
       "  98   1998  98603.4   M\n",
       "  99   1999  98745.7   M\n",
       "  100  2000  98888.0   M\n",
       "  101  2001  98928.8   M\n",
       "  102  2002  98969.6   M\n",
       "  103  2003  99010.4   M\n",
       "  104  2004  99051.2   M\n",
       "  105  2005  99092.0   M\n",
       "  106  2006  99132.8   M\n",
       "  107  2007  99173.6   M\n",
       "  108  2008  99214.4   M\n",
       "  109  2009  99255.2   M\n",
       "  110  2010  99296.0   M\n",
       "  111  2011  99296.0   M\n",
       "  112  2012  99296.0   M\n",
       "  113  2013  99296.0   M\n",
       "  114  2014  99296.0   M\n",
       "  115  2015  99296.0   M\n",
       "\n",
       "[232 rows x 3 columns]"
      ]
     },
     "execution_count": 7,
     "metadata": {},
     "output_type": "execute_result"
    }
   ],
   "source": [
    "# Create smoothened lifetable_2016_s by interpolating values of lx\n",
    "import numpy as np\n",
    "year=np.arange(1900,2016)\n",
    "mf={'M':pd.DataFrame(),'F':pd.DataFrame()}\n",
    "for sex in ['M','F']:\n",
    "    d=lifetables_2016[lifetables_2016.sex==sex][['year','lx']]\n",
    "    mf[sex]=d.set_index('year')\\\n",
    "        .reindex(year)\\\n",
    "        .interpolate()\\\n",
    "        .reset_index()\n",
    "    mf[sex]['sex']=sex\n",
    "\n",
    "lifetable_2016_s=pd.concat(mf)\n",
    "lifetable_2016_s"
   ]
  },
  {
   "cell_type": "markdown",
   "metadata": {
    "dc": {
     "key": "8edb689558"
    },
    "deletable": false,
    "editable": false,
    "run_control": {
     "frozen": true
    },
    "tags": [
     "context"
    ]
   },
   "source": [
    "## 8. Distribution of People Alive by Name\n",
    "<p>Now that we have all the required data, we need a few helper functions to help us with our analysis. </p>\n",
    "<p>The first function we will write is <code>get_data</code>,which takes <code>name</code> and <code>sex</code> as inputs and returns a data frame with the distribution of number of births and number of people alive by year.</p>\n",
    "<p>The second function is <code>plot_name</code> which accepts the same arguments as <code>get_data</code>, but returns a line plot of the distribution of number of births, overlaid by an area plot of the number alive by year.</p>\n",
    "<p>Using these functions, we will plot the distribution of births for boys named <strong>Joseph</strong> and girls named <strong>Brittany</strong>.</p>"
   ]
  },
  {
   "cell_type": "code",
   "execution_count": 8,
   "metadata": {
    "dc": {
     "key": "8edb689558"
    },
    "tags": [
     "sample_code"
    ]
   },
   "outputs": [
    {
     "data": {
      "image/png": "[encoded data removed]",
      "text/plain": [
       "<matplotlib.figure.Figure at 0x1a2dab88400>"
      ]
     },
     "execution_count": 8,
     "metadata": {},
     "output_type": "execute_result"
    },
    {
     "data": {
      "image/png": "[encoded data removed]",
      "text/plain": [
       "<matplotlib.figure.Figure at 0x1a2dab88438>"
      ]
     },
     "metadata": {},
     "output_type": "display_data"
    },
    {
     "data": {
      "image/png": "[encoded data removed]",
      "text/plain": [
       "<matplotlib.figure.Figure at 0x1a2dab88400>"
      ]
     },
     "metadata": {},
     "output_type": "display_data"
    }
   ],
   "source": [
    "import seaborn as sns\n",
    "\n",
    "sns.set_style()\n",
    "\n",
    "def get_data(name, sex):\n",
    "    name_sex = ((bnames['name']==name)&(bnames['sex']==sex))\n",
    "    data = bnames[name_sex].merge(lifetable_2016_s)\n",
    "    data['n_alive']=data['lx']*data['births']/100000\n",
    "    return data\n",
    "    \n",
    "\n",
    "def plot_data(name, sex):\n",
    "    fig, ax = plt.subplots()\n",
    "    data = get_data(name,sex)\n",
    "    data.plot(x = 'year', y= 'births', ax=ax)\n",
    "    data.plot(x = 'year', y= 'n_alive', ax=ax)\n",
    "    return fig\n",
    "    \n",
    "# Plot the distribution of births and number alive for Joseph and Brittany\n",
    "plot_data('Joseph','M')\n",
    "plot_data('Brittany','F')"
   ]
  },
  {
   "cell_type": "markdown",
   "metadata": {
    "dc": {
     "key": "76f2d745c2"
    },
    "deletable": false,
    "editable": false,
    "run_control": {
     "frozen": true
    },
    "tags": [
     "context"
    ]
   },
   "source": [
    "## 9. Estimate Age\n",
    "<p>In this section, we want to figure out the probability that a person with a certain name is alive, as well as the quantiles of their age distribution. In particular, we will estimate the age of a female named <strong>Gertrude</strong>. Any guesses on how old a person with this name is? How about a male named <strong>William</strong>?</p>"
   ]
  },
  {
   "cell_type": "code",
   "execution_count": 10,
   "metadata": {
    "dc": {
     "key": "76f2d745c2"
    },
    "tags": [
     "sample_code"
    ]
   },
   "outputs": [
    {
     "data": {
      "text/plain": [
       "name       Gertrude\n",
       "p_alive       12.42\n",
       "q25              79\n",
       "q50              82\n",
       "q75              87\n",
       "sex               M\n",
       "dtype: object"
      ]
     },
     "execution_count": 10,
     "metadata": {},
     "output_type": "execute_result"
    }
   ],
   "source": [
    "# Import modules\n",
    "from wquantiles import quantile\n",
    "\n",
    "# Function to estimate age quantiles\n",
    "def estimate_age(name, sex):\n",
    "    data = get_data(name,sex)\n",
    "    qs = [0.75, 0.5, 0.25]\n",
    "    quantiles = [2016 - int(quantile(data.year, data.n_alive, q)) for q in qs]\n",
    "    result = dict(zip(['q25', 'q50', 'q75'], quantiles))\n",
    "    result['p_alive'] = round(data.n_alive.sum()/data.births.sum()*100, 2)\n",
    "    result['sex'] = sex\n",
    "    result['name'] = name\n",
    "    return pd.Series(result)\n",
    "\n",
    "# Estimate the age of Gertrude\n",
    "estimate_age('Gertrude', 'M')"
   ]
  },
  {
   "cell_type": "markdown",
   "metadata": {
    "dc": {
     "key": "9f5f6fd409"
    },
    "deletable": false,
    "editable": false,
    "run_control": {
     "frozen": true
    },
    "tags": [
     "context"
    ]
   },
   "source": [
    "## 10. Median Age of Top 10 Female Names\n",
    "<p>In the previous section, we estimated the age of a female named Gertrude. Let's go one step further this time, and compute the 25th, 50th and 75th percentiles of age, and the probability of being alive for the top 10 most common female names of all time. This should give us some interesting insights on how these names stack up in terms of median ages!</p>"
   ]
  },
  {
   "cell_type": "code",
   "execution_count": 11,
   "metadata": {
    "dc": {
     "key": "9f5f6fd409"
    },
    "tags": [
     "sample_code"
    ]
   },
   "outputs": [
    {
     "data": {
      "text/html": [
       "<div>\n",
       "<style>\n",
       "    .dataframe thead tr:only-child th {\n",
       "        text-align: right;\n",
       "    }\n",
       "\n",
       "    .dataframe thead th {\n",
       "        text-align: left;\n",
       "    }\n",
       "\n",
       "    .dataframe tbody tr th {\n",
       "        vertical-align: top;\n",
       "    }\n",
       "</style>\n",
       "<table border=\"1\" class=\"dataframe\">\n",
       "  <thead>\n",
       "    <tr style=\"text-align: right;\">\n",
       "      <th></th>\n",
       "      <th>name</th>\n",
       "      <th>p_alive</th>\n",
       "      <th>q25</th>\n",
       "      <th>q50</th>\n",
       "      <th>q75</th>\n",
       "      <th>sex</th>\n",
       "    </tr>\n",
       "  </thead>\n",
       "  <tbody>\n",
       "    <tr>\n",
       "      <th>1</th>\n",
       "      <td>Sophia</td>\n",
       "      <td>95.35</td>\n",
       "      <td>5</td>\n",
       "      <td>8</td>\n",
       "      <td>14</td>\n",
       "      <td>F</td>\n",
       "    </tr>\n",
       "    <tr>\n",
       "      <th>3</th>\n",
       "      <td>Isabella</td>\n",
       "      <td>97.37</td>\n",
       "      <td>5</td>\n",
       "      <td>8</td>\n",
       "      <td>12</td>\n",
       "      <td>F</td>\n",
       "    </tr>\n",
       "    <tr>\n",
       "      <th>4</th>\n",
       "      <td>Ava</td>\n",
       "      <td>97.12</td>\n",
       "      <td>4</td>\n",
       "      <td>8</td>\n",
       "      <td>11</td>\n",
       "      <td>F</td>\n",
       "    </tr>\n",
       "    <tr>\n",
       "      <th>5</th>\n",
       "      <td>Mia</td>\n",
       "      <td>99.02</td>\n",
       "      <td>4</td>\n",
       "      <td>9</td>\n",
       "      <td>13</td>\n",
       "      <td>F</td>\n",
       "    </tr>\n",
       "    <tr>\n",
       "      <th>0</th>\n",
       "      <td>Emma</td>\n",
       "      <td>76.76</td>\n",
       "      <td>6</td>\n",
       "      <td>12</td>\n",
       "      <td>19</td>\n",
       "      <td>F</td>\n",
       "    </tr>\n",
       "    <tr>\n",
       "      <th>2</th>\n",
       "      <td>Olivia</td>\n",
       "      <td>95.61</td>\n",
       "      <td>6</td>\n",
       "      <td>12</td>\n",
       "      <td>19</td>\n",
       "      <td>F</td>\n",
       "    </tr>\n",
       "    <tr>\n",
       "      <th>7</th>\n",
       "      <td>Abigail</td>\n",
       "      <td>98.65</td>\n",
       "      <td>7</td>\n",
       "      <td>13</td>\n",
       "      <td>19</td>\n",
       "      <td>F</td>\n",
       "    </tr>\n",
       "    <tr>\n",
       "      <th>8</th>\n",
       "      <td>Madison</td>\n",
       "      <td>99.17</td>\n",
       "      <td>8</td>\n",
       "      <td>13</td>\n",
       "      <td>17</td>\n",
       "      <td>F</td>\n",
       "    </tr>\n",
       "    <tr>\n",
       "      <th>6</th>\n",
       "      <td>Emily</td>\n",
       "      <td>92.6</td>\n",
       "      <td>12</td>\n",
       "      <td>20</td>\n",
       "      <td>29</td>\n",
       "      <td>F</td>\n",
       "    </tr>\n",
       "    <tr>\n",
       "      <th>9</th>\n",
       "      <td>Elizabeth</td>\n",
       "      <td>74.49</td>\n",
       "      <td>23</td>\n",
       "      <td>38</td>\n",
       "      <td>58</td>\n",
       "      <td>F</td>\n",
       "    </tr>\n",
       "  </tbody>\n",
       "</table>\n",
       "</div>"
      ],
      "text/plain": [
       "        name p_alive q25 q50 q75 sex\n",
       "1     Sophia   95.35   5   8  14   F\n",
       "3   Isabella   97.37   5   8  12   F\n",
       "4        Ava   97.12   4   8  11   F\n",
       "5        Mia   99.02   4   9  13   F\n",
       "0       Emma   76.76   6  12  19   F\n",
       "2     Olivia   95.61   6  12  19   F\n",
       "7    Abigail   98.65   7  13  19   F\n",
       "8    Madison   99.17   8  13  17   F\n",
       "6      Emily    92.6  12  20  29   F\n",
       "9  Elizabeth   74.49  23  38  58   F"
      ]
     },
     "execution_count": 11,
     "metadata": {},
     "output_type": "execute_result"
    }
   ],
   "source": [
    "# Create median_ages: DataFrame with Top 10 Female names, \n",
    "#    age percentiles and probability of being alive\n",
    "\n",
    "grouped = bnames_this_decade.groupby(['name','sex'],as_index=False)\n",
    "bnames_alltime=grouped.sum()\\\n",
    "                      .drop(['year'],axis=1)\\\n",
    "                      .sort_values('births',ascending=False)\n",
    "bnames_alltime_top10_f=bnames_alltime[(bnames_alltime.loc[:,'sex']=='F')].head(10)\n",
    "estimates = pd.concat([estimate_age(s[1]['name'],s[1]['sex']) for s in bnames_alltime_top10_f.iterrows()],axis=1)\n",
    "median_ages=estimates.T.sort_values('q50')\n",
    "median_ages\n"
   ]
  }
 ],
 "metadata": {
  "kernelspec": {
   "display_name": "Python 3",
   "language": "python",
   "name": "python3"
  },
  "language_info": {
   "codemirror_mode": {
    "name": "ipython",
    "version": 3
   },
   "file_extension": ".py",
   "mimetype": "text/x-python",
   "name": "python",
   "nbconvert_exporter": "python",
   "pygments_lexer": "ipython3",
   "version": "3.6.1"
  }
 },
 "nbformat": 4,
 "nbformat_minor": 2
}
